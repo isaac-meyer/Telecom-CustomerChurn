{
 "cells": [
  {
   "cell_type": "code",
   "execution_count": 1,
   "id": "c77ff5d5",
   "metadata": {},
   "outputs": [],
   "source": [
    "import os\n",
    "import numpy as np\n",
    "import pandas as pd\n",
    "import matplotlib.pyplot as plt\n",
    "import seaborn as sns\n",
    "import statsmodels.api as sm\n",
    "from statsmodels.formula.api import ols\n",
    "from sklearn.linear_model import LinearRegression\n",
    "from sklearn.linear_model import LogisticRegression\n",
    "from sklearn import metrics\n",
    "import warnings\n",
    "warnings.filterwarnings('ignore')"
   ]
  },
  {
   "cell_type": "code",
   "execution_count": 2,
   "id": "f376d00d",
   "metadata": {},
   "outputs": [],
   "source": [
    "os.chdir(\"C:/Users/Isaac/OneDrive/Documents/UCLAEx_DataScience/R/Data\")\n",
    "df2 = pd.read_csv('W04a_churn.csv', na_values=[' '])"
   ]
  },
  {
   "cell_type": "markdown",
   "id": "86be73db",
   "metadata": {},
   "source": [
    "<h2>Logistic Regression: Churn Analysis</h2>"
   ]
  },
  {
   "cell_type": "code",
   "execution_count": 16,
   "id": "59e078d4",
   "metadata": {},
   "outputs": [
    {
     "name": "stdout",
     "output_type": "stream",
     "text": [
      "<class 'pandas.core.frame.DataFrame'>\n",
      "Int64Index: 7032 entries, 0 to 7042\n",
      "Data columns (total 21 columns):\n",
      " #   Column            Non-Null Count  Dtype  \n",
      "---  ------            --------------  -----  \n",
      " 0   customerID        7032 non-null   object \n",
      " 1   gender            7032 non-null   object \n",
      " 2   SeniorCitizen     7032 non-null   int64  \n",
      " 3   Partner           7032 non-null   object \n",
      " 4   Dependents        7032 non-null   object \n",
      " 5   tenure            7032 non-null   int64  \n",
      " 6   PhoneService      7032 non-null   object \n",
      " 7   MultipleLines     7032 non-null   object \n",
      " 8   InternetService   7032 non-null   object \n",
      " 9   OnlineSecurity    7032 non-null   object \n",
      " 10  OnlineBackup      7032 non-null   object \n",
      " 11  DeviceProtection  7032 non-null   object \n",
      " 12  TechSupport       7032 non-null   object \n",
      " 13  StreamingTV       7032 non-null   object \n",
      " 14  StreamingMovies   7032 non-null   object \n",
      " 15  Contract          7032 non-null   object \n",
      " 16  PaperlessBilling  7032 non-null   object \n",
      " 17  PaymentMethod     7032 non-null   object \n",
      " 18  MonthlyCharges    7032 non-null   float64\n",
      " 19  TotalCharges      7032 non-null   float64\n",
      " 20  Churn             7032 non-null   object \n",
      "dtypes: float64(2), int64(2), object(17)\n",
      "memory usage: 1.2+ MB\n"
     ]
    }
   ],
   "source": [
    "\n",
    "df2 = df2.dropna()\n",
    "df2.info()"
   ]
  },
  {
   "cell_type": "code",
   "execution_count": 17,
   "id": "4b22aca2",
   "metadata": {},
   "outputs": [
    {
     "data": {
      "text/html": [
       "<div>\n",
       "<style scoped>\n",
       "    .dataframe tbody tr th:only-of-type {\n",
       "        vertical-align: middle;\n",
       "    }\n",
       "\n",
       "    .dataframe tbody tr th {\n",
       "        vertical-align: top;\n",
       "    }\n",
       "\n",
       "    .dataframe thead th {\n",
       "        text-align: right;\n",
       "    }\n",
       "</style>\n",
       "<table border=\"1\" class=\"dataframe\">\n",
       "  <thead>\n",
       "    <tr style=\"text-align: right;\">\n",
       "      <th></th>\n",
       "      <th>SeniorCitizen</th>\n",
       "      <th>tenure</th>\n",
       "      <th>MonthlyCharges</th>\n",
       "      <th>TotalCharges</th>\n",
       "    </tr>\n",
       "  </thead>\n",
       "  <tbody>\n",
       "    <tr>\n",
       "      <th>count</th>\n",
       "      <td>7032.000000</td>\n",
       "      <td>7032.000000</td>\n",
       "      <td>7032.000000</td>\n",
       "      <td>7032.000000</td>\n",
       "    </tr>\n",
       "    <tr>\n",
       "      <th>mean</th>\n",
       "      <td>0.162400</td>\n",
       "      <td>32.421786</td>\n",
       "      <td>64.798208</td>\n",
       "      <td>2283.300441</td>\n",
       "    </tr>\n",
       "    <tr>\n",
       "      <th>std</th>\n",
       "      <td>0.368844</td>\n",
       "      <td>24.545260</td>\n",
       "      <td>30.085974</td>\n",
       "      <td>2266.771362</td>\n",
       "    </tr>\n",
       "    <tr>\n",
       "      <th>min</th>\n",
       "      <td>0.000000</td>\n",
       "      <td>1.000000</td>\n",
       "      <td>18.250000</td>\n",
       "      <td>18.800000</td>\n",
       "    </tr>\n",
       "    <tr>\n",
       "      <th>25%</th>\n",
       "      <td>0.000000</td>\n",
       "      <td>9.000000</td>\n",
       "      <td>35.587500</td>\n",
       "      <td>401.450000</td>\n",
       "    </tr>\n",
       "    <tr>\n",
       "      <th>50%</th>\n",
       "      <td>0.000000</td>\n",
       "      <td>29.000000</td>\n",
       "      <td>70.350000</td>\n",
       "      <td>1397.475000</td>\n",
       "    </tr>\n",
       "    <tr>\n",
       "      <th>75%</th>\n",
       "      <td>0.000000</td>\n",
       "      <td>55.000000</td>\n",
       "      <td>89.862500</td>\n",
       "      <td>3794.737500</td>\n",
       "    </tr>\n",
       "    <tr>\n",
       "      <th>max</th>\n",
       "      <td>1.000000</td>\n",
       "      <td>72.000000</td>\n",
       "      <td>118.750000</td>\n",
       "      <td>8684.800000</td>\n",
       "    </tr>\n",
       "  </tbody>\n",
       "</table>\n",
       "</div>"
      ],
      "text/plain": [
       "       SeniorCitizen       tenure  MonthlyCharges  TotalCharges\n",
       "count    7032.000000  7032.000000     7032.000000   7032.000000\n",
       "mean        0.162400    32.421786       64.798208   2283.300441\n",
       "std         0.368844    24.545260       30.085974   2266.771362\n",
       "min         0.000000     1.000000       18.250000     18.800000\n",
       "25%         0.000000     9.000000       35.587500    401.450000\n",
       "50%         0.000000    29.000000       70.350000   1397.475000\n",
       "75%         0.000000    55.000000       89.862500   3794.737500\n",
       "max         1.000000    72.000000      118.750000   8684.800000"
      ]
     },
     "execution_count": 17,
     "metadata": {},
     "output_type": "execute_result"
    }
   ],
   "source": [
    "df2.describe()"
   ]
  },
  {
   "cell_type": "code",
   "execution_count": 18,
   "id": "f57be322",
   "metadata": {},
   "outputs": [],
   "source": [
    "# Clean up variables before converting into dummy variables\n",
    "\n",
    "df2 = df2.replace({'Churn': {'Yes': 1, 'No': 0},\n",
    "                   'MultipleLines':{'No phone service': 'No'},\n",
    "                   'OnlineSecurity':{'No internet service':'No'},\n",
    "                   'OnlineBackup':{'No internet service':'No'},\n",
    "                   'DeviceProtection':{'No internet service':'No'},\n",
    "                   'TechSupport':{'No internet service':'No'},\n",
    "                   'StreamingTV':{'No internet service':'No'},\n",
    "                  'StreamingMovies':{'No internet service':'No'}\n",
    "                  })\n",
    "df2['TotalCharges'] = df2['TotalCharges'].apply(pd.to_numeric, errors = 'coerce')"
   ]
  },
  {
   "cell_type": "code",
   "execution_count": 19,
   "id": "c844022b",
   "metadata": {},
   "outputs": [],
   "source": [
    "df3=pd.get_dummies(df2,columns=['gender','Partner','Dependents','PhoneService','MultipleLines',\n",
    "                                'InternetService','OnlineSecurity','OnlineBackup','DeviceProtection',\n",
    "                                'TechSupport','StreamingTV','StreamingMovies','Contract',\n",
    "                                'PaperlessBilling','PaymentMethod'],drop_first=True)"
   ]
  },
  {
   "cell_type": "code",
   "execution_count": 20,
   "id": "53e4d561",
   "metadata": {},
   "outputs": [
    {
     "data": {
      "text/plain": [
       "count     7032\n",
       "unique       2\n",
       "top         No\n",
       "freq      4065\n",
       "Name: MultipleLines, dtype: object"
      ]
     },
     "execution_count": 20,
     "metadata": {},
     "output_type": "execute_result"
    }
   ],
   "source": [
    "df2['MultipleLines'].describe()"
   ]
  },
  {
   "cell_type": "code",
   "execution_count": 21,
   "id": "890828d7",
   "metadata": {},
   "outputs": [
    {
     "data": {
      "text/plain": [
       "<AxesSubplot:xlabel='Churn', ylabel='MonthlyCharges'>"
      ]
     },
     "execution_count": 21,
     "metadata": {},
     "output_type": "execute_result"
    },
    {
     "data": {
      "image/png": "[encoded data removed]",
      "text/plain": [
       "<Figure size 640x480 with 1 Axes>"
      ]
     },
     "metadata": {},
     "output_type": "display_data"
    }
   ],
   "source": [
    "sns.violinplot(x=\"Churn\", y=\"MonthlyCharges\", data=df2)"
   ]
  },
  {
   "cell_type": "code",
   "execution_count": 22,
   "id": "d2633b9c",
   "metadata": {},
   "outputs": [
    {
     "data": {
      "text/plain": [
       "<AxesSubplot:xlabel='Churn', ylabel='tenure'>"
      ]
     },
     "execution_count": 22,
     "metadata": {},
     "output_type": "execute_result"
    },
    {
     "data": {
      "image/png": "[encoded data removed]",
      "text/plain": [
       "<Figure size 640x480 with 1 Axes>"
      ]
     },
     "metadata": {},
     "output_type": "display_data"
    }
   ],
   "source": [
    "sns.violinplot(x=\"Churn\", y=\"tenure\", data=df2)"
   ]
  },
  {
   "cell_type": "markdown",
   "id": "14557e05",
   "metadata": {},
   "source": [
    "<h3>Logistic Regression</h3>"
   ]
  },
  {
   "cell_type": "markdown",
   "id": "d8f329a7",
   "metadata": {},
   "source": [
    "<h3>Model 1</h3> Selecting all variables minus unique ID"
   ]
  },
  {
   "cell_type": "markdown",
   "id": "d3584861",
   "metadata": {},
   "source": [
    "Model 1 - StatsModels Library"
   ]
  },
  {
   "cell_type": "code",
   "execution_count": 23,
   "id": "04ed0170",
   "metadata": {
    "scrolled": true
   },
   "outputs": [
    {
     "name": "stdout",
     "output_type": "stream",
     "text": [
      "Optimization terminated successfully.\n",
      "         Current function value: 0.414269\n",
      "         Iterations 8\n",
      "                           Logit Regression Results                           \n",
      "==============================================================================\n",
      "Dep. Variable:                  Churn   No. Observations:                 7032\n",
      "Model:                          Logit   Df Residuals:                     7008\n",
      "Method:                           MLE   Df Model:                           23\n",
      "Date:                Wed, 09 Nov 2022   Pseudo R-squ.:                  0.2845\n",
      "Time:                        22:02:40   Log-Likelihood:                -2913.1\n",
      "converged:                       True   LL-Null:                       -4071.7\n",
      "Covariance Type:            nonrobust   LLR p-value:                     0.000\n",
      "=========================================================================================================\n",
      "                                            coef    std err          z      P>|z|      [0.025      0.975]\n",
      "---------------------------------------------------------------------------------------------------------\n",
      "const                                     1.1653      0.815      1.430      0.153      -0.432       2.763\n",
      "SeniorCitizen                             0.2168      0.085      2.564      0.010       0.051       0.382\n",
      "tenure                                   -0.0606      0.006     -9.716      0.000      -0.073      -0.048\n",
      "MonthlyCharges                           -0.0403      0.032     -1.270      0.204      -0.103       0.022\n",
      "TotalCharges                              0.0003   7.06e-05      4.657      0.000       0.000       0.000\n",
      "gender_Male                              -0.0218      0.065     -0.337      0.736      -0.149       0.105\n",
      "Partner_Yes                              -0.0004      0.078     -0.005      0.996      -0.153       0.152\n",
      "Dependents_Yes                           -0.1485      0.090     -1.655      0.098      -0.324       0.027\n",
      "PhoneService_Yes                          0.1715      0.649      0.264      0.792      -1.100       1.443\n",
      "MultipleLines_Yes                         0.4484      0.177      2.530      0.011       0.101       0.796\n",
      "InternetService_Fiber optic               1.7475      0.798      2.190      0.029       0.183       3.312\n",
      "InternetService_No                       -1.7863      0.807     -2.213      0.027      -3.369      -0.204\n",
      "OnlineSecurity_Yes                       -0.2054      0.179     -1.150      0.250      -0.556       0.145\n",
      "OnlineBackup_Yes                          0.0260      0.175      0.148      0.882      -0.318       0.370\n",
      "DeviceProtection_Yes                      0.1474      0.176      0.836      0.403      -0.198       0.493\n",
      "TechSupport_Yes                          -0.1805      0.181     -0.999      0.318      -0.534       0.173\n",
      "StreamingTV_Yes                           0.5905      0.326      1.810      0.070      -0.049       1.230\n",
      "StreamingMovies_Yes                       0.5993      0.327      1.834      0.067      -0.041       1.240\n",
      "Contract_One year                        -0.6608      0.108     -6.142      0.000      -0.872      -0.450\n",
      "Contract_Two year                        -1.3571      0.176     -7.691      0.000      -1.703      -1.011\n",
      "PaperlessBilling_Yes                      0.3424      0.074      4.596      0.000       0.196       0.488\n",
      "PaymentMethod_Credit card (automatic)    -0.0878      0.114     -0.770      0.442      -0.311       0.136\n",
      "PaymentMethod_Electronic check            0.3045      0.094      3.222      0.001       0.119       0.490\n",
      "PaymentMethod_Mailed check               -0.0576      0.115     -0.501      0.616      -0.283       0.168\n",
      "=========================================================================================================\n"
     ]
    }
   ],
   "source": [
    "y1 = df3['Churn']\n",
    "x1 = df3.drop(['Churn','customerID'], axis=1) \n",
    "X1 = sm.add_constant(x1) \n",
    "logit1 = sm.Logit(y1,X1)\n",
    "eq01=logit1.fit()\n",
    "print(eq01.summary())"
   ]
  },
  {
   "cell_type": "markdown",
   "id": "cf993622",
   "metadata": {},
   "source": [
    "Model 1 - Sklearn"
   ]
  },
  {
   "cell_type": "code",
   "execution_count": 24,
   "id": "08caded4",
   "metadata": {
    "scrolled": true
   },
   "outputs": [
    {
     "data": {
      "text/plain": [
       "array([1, 0, 0, ..., 0, 1, 0], dtype=int64)"
      ]
     },
     "execution_count": 24,
     "metadata": {},
     "output_type": "execute_result"
    }
   ],
   "source": [
    "logit2 = LogisticRegression()\n",
    "logit2.fit(X1, y1)\n",
    "pred01 = logit2.predict(X1)\n",
    "pred01"
   ]
  },
  {
   "cell_type": "markdown",
   "id": "fcefd30d",
   "metadata": {},
   "source": [
    "In-Sample Prediction (Default threshold 0.5)"
   ]
  },
  {
   "cell_type": "code",
   "execution_count": 25,
   "id": "30695a9d",
   "metadata": {},
   "outputs": [
    {
     "name": "stdout",
     "output_type": "stream",
     "text": [
      "0.805745164960182\n",
      "0.805745164960182\n"
     ]
    }
   ],
   "source": [
    "print(np.mean(pred01 == y1))\n",
    "print(logit2.score(X1,y1))"
   ]
  },
  {
   "cell_type": "code",
   "execution_count": 26,
   "id": "83530b2d",
   "metadata": {
    "scrolled": true
   },
   "outputs": [
    {
     "name": "stdout",
     "output_type": "stream",
     "text": [
      "[0.39558454 0.95447775 0.70544287 ... 0.6282546  0.25688921 0.93838115]\n",
      "[0.60441546 0.04552225 0.29455713 ... 0.3717454  0.74311079 0.06161885]\n",
      "[1 0 0 ... 0 1 0]\n"
     ]
    }
   ],
   "source": [
    "print(logit2.predict_proba(X1)[:,0])  # Churn = 0 or \"No\"\n",
    "print(logit2.predict_proba(X1)[:,1])  # Churn = 1 or \"Yes\"\n",
    "print(logit2.predict(X1))  "
   ]
  },
  {
   "cell_type": "markdown",
   "id": "af55d41d",
   "metadata": {},
   "source": [
    "First and Last 3 samples look good!\n",
    "\n",
    "Looking at Accuracy, Precision, Recall, F1, and Confusion Matrix"
   ]
  },
  {
   "cell_type": "code",
   "execution_count": 27,
   "id": "dcc13db2",
   "metadata": {},
   "outputs": [
    {
     "name": "stdout",
     "output_type": "stream",
     "text": [
      "Accuracy: 0.806, Precision: 0.664, Recall: 0.546, F1: 0.599\n"
     ]
    }
   ],
   "source": [
    "accuracy = metrics.accuracy_score(y1, pred01)\n",
    "precision = metrics.precision_score(y1, pred01)\n",
    "recall = metrics.recall_score(y1, pred01)\n",
    "f1 = metrics.f1_score(y1, pred01)\n",
    "print(f'Accuracy: {accuracy:.3f}, Precision: {precision:.3f}, Recall: {recall:.3f}, F1: {f1:.3f}')"
   ]
  },
  {
   "cell_type": "code",
   "execution_count": 28,
   "id": "5a8389a6",
   "metadata": {
    "scrolled": true
   },
   "outputs": [
    {
     "name": "stdout",
     "output_type": "stream",
     "text": [
      "Confusion Matrix:\n",
      " [[4646  849]\n",
      " [ 517 1020]]\n"
     ]
    }
   ],
   "source": [
    "confus1 = metrics.confusion_matrix(pred01, y1)\n",
    "print('Confusion Matrix:\\n', confus1)"
   ]
  },
  {
   "cell_type": "markdown",
   "id": "2519f265",
   "metadata": {},
   "source": [
    "<h4>ROC curve and AUC</h4>"
   ]
  },
  {
   "cell_type": "code",
   "execution_count": 29,
   "id": "e685506e",
   "metadata": {
    "scrolled": false
   },
   "outputs": [
    {
     "data": {
      "image/png": "[encoded data removed]",
      "text/plain": [
       "<Figure size 600x600 with 1 Axes>"
      ]
     },
     "metadata": {},
     "output_type": "display_data"
    }
   ],
   "source": [
    "pred03_proba = logit2.predict_proba(X1)[:,1]\n",
    "fpr, tpr, _ = metrics.roc_curve(y1, pred03_proba)\n",
    "auc = metrics.auc(fpr, tpr)\n",
    "plt.figure(figsize = (6,6))\n",
    "plt.plot(fpr,tpr, linewidth=4, color='blue', label=\"AUC: %0.2f\" % auc)\n",
    "plt.plot([0, 1], [0, 1], 'k--')  # 45 degree line\n",
    "plt.legend(loc=4, fontsize = 12)\n",
    "plt.ylabel(\"True positive rate (Sensitivity)\", fontsize = 12)\n",
    "plt.xlabel(\"False positive rate (1-Specificity)\",fontsize = 12)\n",
    "plt.show()"
   ]
  },
  {
   "cell_type": "markdown",
   "id": "8aad622b",
   "metadata": {},
   "source": [
    "<h4>Optimize Threshold</h4>"
   ]
  },
  {
   "cell_type": "code",
   "execution_count": 30,
   "id": "1ca191c2",
   "metadata": {},
   "outputs": [
    {
     "name": "stdout",
     "output_type": "stream",
     "text": [
      "Optimal Threshold = 0.284, F1-Score = 0.6354\n"
     ]
    }
   ],
   "source": [
    "from sklearn.metrics import f1_score\n",
    "from numpy import argmax\n",
    "pred03_proba = logit2.predict_proba(X1)\n",
    "probs = pred03_proba[:,1]\n",
    "thresholds = np.arange(0, 1, 0.001) \n",
    "def to_labels(pos_probs, threshold):\n",
    "    return (pos_probs >= threshold).astype('int')\n",
    "scores = [f1_score(y1, to_labels(probs, t)) for t in thresholds]\n",
    "ix = argmax(scores)\n",
    "print('Optimal Threshold = %.3f, F1-Score = %.4f' % (thresholds[ix], scores[ix]))"
   ]
  },
  {
   "cell_type": "markdown",
   "id": "627533d1",
   "metadata": {},
   "source": [
    "<h4>Use the optimal threshold to re-do prediction. Recall (Sensitivity) and F1 increase significantly.</h4>  "
   ]
  },
  {
   "cell_type": "code",
   "execution_count": 31,
   "id": "98d3b354",
   "metadata": {},
   "outputs": [
    {
     "name": "stdout",
     "output_type": "stream",
     "text": [
      "Accuracy: 0.766, Precision: 0.541, Recall: 0.769, F1: 0.635\n"
     ]
    }
   ],
   "source": [
    "pred03 = list(map(lambda x1: 1 if x1 > 0.284 else 0, probs))\n",
    "accuracy = metrics.accuracy_score(y1, pred03)\n",
    "precision = metrics.precision_score(y1, pred03)\n",
    "recall = metrics.recall_score(y1, pred03)\n",
    "f1 = metrics.f1_score(y1, pred03)\n",
    "print(f'Accuracy: {accuracy:.3f}, Precision: {precision:.3f}, Recall: {recall:.3f}, F1: {f1:.3f}')"
   ]
  },
  {
   "cell_type": "markdown",
   "id": "2a41d09b",
   "metadata": {},
   "source": [
    "<h2>Model 2</h2> Selecting only significant variables from Model 1 and all payment methods"
   ]
  },
  {
   "cell_type": "markdown",
   "id": "7d2bd3cd",
   "metadata": {},
   "source": [
    "Model 2 - StatsModels Library"
   ]
  },
  {
   "cell_type": "code",
   "execution_count": 32,
   "id": "46b191da",
   "metadata": {
    "scrolled": false
   },
   "outputs": [
    {
     "name": "stdout",
     "output_type": "stream",
     "text": [
      "Optimization terminated successfully.\n",
      "         Current function value: 0.421652\n",
      "         Iterations 8\n",
      "                           Logit Regression Results                           \n",
      "==============================================================================\n",
      "Dep. Variable:                  Churn   No. Observations:                 7032\n",
      "Model:                          Logit   Df Residuals:                     7019\n",
      "Method:                           MLE   Df Model:                           12\n",
      "Date:                Wed, 09 Nov 2022   Pseudo R-squ.:                  0.2718\n",
      "Time:                        22:02:43   Log-Likelihood:                -2965.1\n",
      "converged:                       True   LL-Null:                       -4071.7\n",
      "Covariance Type:            nonrobust   LLR p-value:                     0.000\n",
      "=========================================================================================================\n",
      "                                            coef    std err          z      P>|z|      [0.025      0.975]\n",
      "---------------------------------------------------------------------------------------------------------\n",
      "const                                    -0.5845      0.116     -5.023      0.000      -0.813      -0.356\n",
      "SeniorCitizen                             0.3102      0.082      3.789      0.000       0.150       0.471\n",
      "tenure                                   -0.0566      0.006     -9.713      0.000      -0.068      -0.045\n",
      "TotalCharges                              0.0003   6.23e-05      4.198      0.000       0.000       0.000\n",
      "MultipleLines_Yes                         0.2114      0.077      2.743      0.006       0.060       0.362\n",
      "InternetService_Fiber optic               0.7432      0.089      8.383      0.000       0.569       0.917\n",
      "InternetService_No                       -0.7515      0.123     -6.085      0.000      -0.993      -0.509\n",
      "Contract_One year                        -0.7258      0.105     -6.918      0.000      -0.931      -0.520\n",
      "Contract_Two year                        -1.5185      0.173     -8.752      0.000      -1.859      -1.178\n",
      "PaperlessBilling_Yes                      0.3907      0.073      5.340      0.000       0.247       0.534\n",
      "PaymentMethod_Credit card (automatic)    -0.0854      0.113     -0.757      0.449      -0.306       0.136\n",
      "PaymentMethod_Electronic check            0.3944      0.093      4.238      0.000       0.212       0.577\n",
      "PaymentMethod_Mailed check               -0.0692      0.113     -0.613      0.540      -0.290       0.152\n",
      "=========================================================================================================\n"
     ]
    }
   ],
   "source": [
    "y2 = df3['Churn']\n",
    "x2 = df3.loc[:,['SeniorCitizen','tenure','TotalCharges','MultipleLines_Yes','InternetService_Fiber optic','InternetService_No','Contract_One year','Contract_Two year','PaperlessBilling_Yes','PaymentMethod_Credit card (automatic)','PaymentMethod_Electronic check','PaymentMethod_Mailed check']] \n",
    "X2 = sm.add_constant(x2) \n",
    "logit3 = sm.Logit(y2,X2)\n",
    "eq02=logit3.fit()\n",
    "print(eq02.summary())\n"
   ]
  },
  {
   "cell_type": "markdown",
   "id": "4274faaa",
   "metadata": {},
   "source": [
    "Model 2 - Sklearn"
   ]
  },
  {
   "cell_type": "code",
   "execution_count": 33,
   "id": "2d579353",
   "metadata": {
    "scrolled": true
   },
   "outputs": [
    {
     "data": {
      "text/plain": [
       "array([1, 0, 0, ..., 0, 1, 0], dtype=int64)"
      ]
     },
     "execution_count": 33,
     "metadata": {},
     "output_type": "execute_result"
    }
   ],
   "source": [
    "logit4 = LogisticRegression()\n",
    "logit4.fit(X2, y2)\n",
    "pred02 = logit4.predict(X2)\n",
    "pred02"
   ]
  },
  {
   "cell_type": "markdown",
   "id": "e25335cc",
   "metadata": {},
   "source": [
    "In-Sample Prediction (Default threshold 0.5)"
   ]
  },
  {
   "cell_type": "code",
   "execution_count": 34,
   "id": "7311090e",
   "metadata": {},
   "outputs": [
    {
     "name": "stdout",
     "output_type": "stream",
     "text": [
      "0.801052332195677\n",
      "0.801052332195677\n"
     ]
    }
   ],
   "source": [
    "print(np.mean(pred02 == y2))\n",
    "print(logit4.score(X2,y2))"
   ]
  },
  {
   "cell_type": "code",
   "execution_count": 35,
   "id": "81c1989a",
   "metadata": {
    "scrolled": true
   },
   "outputs": [
    {
     "name": "stdout",
     "output_type": "stream",
     "text": [
      "[0.48488095 0.94586097 0.59869273 ... 0.61071289 0.24883833 0.92252026]\n",
      "[0.51511905 0.05413903 0.40130727 ... 0.38928711 0.75116167 0.07747974]\n",
      "[1 0 0 ... 0 1 0]\n"
     ]
    }
   ],
   "source": [
    "print(logit4.predict_proba(X2)[:,0])  # Churn = 0 or \"No\"\n",
    "print(logit4.predict_proba(X2)[:,1])  # Churn = 1 or \"Yes\"\n",
    "print(logit4.predict(X2))  "
   ]
  },
  {
   "cell_type": "markdown",
   "id": "ffcd1903",
   "metadata": {},
   "source": [
    "Predictions look a little less reliable.  Lets check metrics.\n",
    "\n",
    "Looking at Accuracy, Precision, Recall, F1, and Confusion Matrix"
   ]
  },
  {
   "cell_type": "code",
   "execution_count": 36,
   "id": "8d93f8bb",
   "metadata": {},
   "outputs": [
    {
     "name": "stdout",
     "output_type": "stream",
     "text": [
      "Accuracy: 0.801, Precision: 0.659, Recall: 0.521, F1: 0.582\n"
     ]
    }
   ],
   "source": [
    "accuracy = metrics.accuracy_score(y2, pred02)\n",
    "precision = metrics.precision_score(y2, pred02)\n",
    "recall = metrics.recall_score(y2, pred02)\n",
    "f1 = metrics.f1_score(y2, pred02)\n",
    "print(f'Accuracy: {accuracy:.3f}, Precision: {precision:.3f}, Recall: {recall:.3f}, F1: {f1:.3f}')"
   ]
  },
  {
   "cell_type": "code",
   "execution_count": 37,
   "id": "d5ea6d8e",
   "metadata": {
    "scrolled": true
   },
   "outputs": [
    {
     "name": "stdout",
     "output_type": "stream",
     "text": [
      "Confusion Matrix:\n",
      " [[4659  895]\n",
      " [ 504  974]]\n"
     ]
    }
   ],
   "source": [
    "confus2 = metrics.confusion_matrix(pred02, y2)\n",
    "print('Confusion Matrix:\\n', confus2)"
   ]
  },
  {
   "cell_type": "markdown",
   "id": "1ede0bf3",
   "metadata": {},
   "source": [
    "<h4>ROC curve and AUC</h4>"
   ]
  },
  {
   "cell_type": "code",
   "execution_count": 38,
   "id": "dd0d9402",
   "metadata": {
    "scrolled": false
   },
   "outputs": [
    {
     "data": {
      "image/png": "[encoded data removed]",
      "text/plain": [
       "<Figure size 600x600 with 1 Axes>"
      ]
     },
     "metadata": {},
     "output_type": "display_data"
    }
   ],
   "source": [
    "pred02_proba = logit4.predict_proba(X2)[:,1]\n",
    "fpr, tpr, _ = metrics.roc_curve(y2, pred02_proba)\n",
    "auc = metrics.auc(fpr, tpr)\n",
    "plt.figure(figsize = (6,6))\n",
    "plt.plot(fpr,tpr, linewidth=4, color='blue', label=\"AUC: %0.2f\" % auc)\n",
    "plt.plot([0, 1], [0, 1], 'k--')  # 45 degree line\n",
    "plt.legend(loc=4, fontsize = 12)\n",
    "plt.ylabel(\"True positive rate (Sensitivity)\", fontsize = 12)\n",
    "plt.xlabel(\"False positive rate (1-Specificity)\",fontsize = 12)\n",
    "plt.show()"
   ]
  },
  {
   "cell_type": "markdown",
   "id": "f3332359",
   "metadata": {},
   "source": [
    "<h4>Optimize Threshold</h4>"
   ]
  },
  {
   "cell_type": "code",
   "execution_count": 39,
   "id": "c8f472b9",
   "metadata": {},
   "outputs": [
    {
     "name": "stdout",
     "output_type": "stream",
     "text": [
      "Optimal Threshold = 0.301, F1-Score = 0.6310\n"
     ]
    }
   ],
   "source": [
    "pred04_proba = logit4.predict_proba(X2)\n",
    "probs = pred04_proba[:,1]\n",
    "thresholds = np.arange(0, 1, 0.001) \n",
    "def to_labels(pos_probs, threshold):\n",
    "    return (pos_probs >= threshold).astype('int')\n",
    "scores = [f1_score(y2, to_labels(probs, t)) for t in thresholds]\n",
    "ix = argmax(scores)\n",
    "print('Optimal Threshold = %.3f, F1-Score = %.4f' % (thresholds[ix], scores[ix]))"
   ]
  },
  {
   "cell_type": "markdown",
   "id": "a461bc54",
   "metadata": {},
   "source": [
    "<h4>Use the optimal threshold to re-do prediction. Recall (Sensitivity) and F1 increase significantly.</h4>  "
   ]
  },
  {
   "cell_type": "code",
   "execution_count": 40,
   "id": "370bd49a",
   "metadata": {},
   "outputs": [
    {
     "name": "stdout",
     "output_type": "stream",
     "text": [
      "Accuracy: 0.767, Precision: 0.544, Recall: 0.751, F1: 0.631\n"
     ]
    }
   ],
   "source": [
    "pred04 = list(map(lambda x2: 1 if x2 > 0.301 else 0, probs))\n",
    "accuracy = metrics.accuracy_score(y2, pred04)\n",
    "precision = metrics.precision_score(y2, pred04)\n",
    "recall = metrics.recall_score(y2, pred04)\n",
    "f1 = metrics.f1_score(y2, pred04)\n",
    "print(f'Accuracy: {accuracy:.3f}, Precision: {precision:.3f}, Recall: {recall:.3f}, F1: {f1:.3f}')"
   ]
  }
 ],
 "metadata": {
  "kernelspec": {
   "display_name": "Python 3 (ipykernel)",
   "language": "python",
   "name": "python3"
  },
  "language_info": {
   "codemirror_mode": {
    "name": "ipython",
    "version": 3
   },
   "file_extension": ".py",
   "mimetype": "text/x-python",
   "name": "python",
   "nbconvert_exporter": "python",
   "pygments_lexer": "ipython3",
   "version": "3.9.13"
  }
 },
 "nbformat": 4,
 "nbformat_minor": 5
}
